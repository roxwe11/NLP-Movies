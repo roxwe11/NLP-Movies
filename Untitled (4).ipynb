{
 "cells": [
  {
   "cell_type": "markdown",
   "id": "6c5fc945-0d0e-4e29-ac85-3b451f02333c",
   "metadata": {},
   "source": [
    "# 🎬 Nivel FRECUENCIAS — Análisis de Sentimientos en Reseñas IMDB (TF-IDF + Naive Bayes)\n",
    "\n",
    "**🎯 Objetivo:** construir un pipeline **simple y completo** de *Procesamiento de Lenguaje Natural (NLP)* para clasificar opiniones de películas (**positivo / negativo**) usando un **dataset CSV (IMDB)** y el modelo **TF-IDF + Naive Bayes**.\n",
    "\n",
    "**🔁 Flujo del notebook:**\n",
    "1️⃣ Carga de datos  \n",
    "2️⃣ Preprocesamiento textual (limpieza básica)  \n",
    "3️⃣ Vectorización (TF-IDF)  \n",
    "4️⃣ Entrenamiento del modelo (Naive Bayes)  \n",
    "5️⃣ Evaluación y métricas  \n",
    "6️⃣ Visualización de resultados  \n",
    "7️⃣ Predicción rápida (demo)\n",
    "\n"
   ]
  },
  {
   "cell_type": "code",
   "execution_count": 1,
   "id": "01a43743-10c6-448e-beb2-0aeddb3a986b",
   "metadata": {},
   "outputs": [
    {
     "name": "stdout",
     "output_type": "stream",
     "text": [
      "Librerías cargadas ✅\n"
     ]
    }
   ],
   "source": [
    "# 1️⃣ Librerías — IMDB (binario: positive/negative)\n",
    "\n",
    "import pandas as pd\n",
    "import numpy as np\n",
    "\n",
    "from sklearn.model_selection import train_test_split\n",
    "from sklearn.feature_extraction.text import TfidfVectorizer\n",
    "from sklearn.naive_bayes import MultinomialNB\n",
    "from sklearn.pipeline import Pipeline\n",
    "from sklearn.metrics import (\n",
    "    accuracy_score,\n",
    "    classification_report,\n",
    "    confusion_matrix,\n",
    "    ConfusionMatrixDisplay\n",
    ")\n",
    "\n",
    "import matplotlib.pyplot as plt\n",
    "\n",
    "# Opciones/semilla\n",
    "pd.set_option(\"display.max_colwidth\", 120)\n",
    "np.random.seed(42)\n",
    "\n",
    "print(\"Librerías cargadas ✅\")\n"
   ]
  },
  {
   "cell_type": "markdown",
   "id": "f9d4d256-5a01-4bb8-907c-6ebf454e6950",
   "metadata": {},
   "source": [
    "## 2️⃣ Carga de datos desde CSV (usaremos solo los **80 primeros** registros)\n",
    "\n",
    "- Asegúrate de colocar el archivo **`IMDB Dataset.csv`** en el mismo directorio del notebook.  \n",
    "- Este dataset contiene **50 000 reseñas de películas** con dos columnas principales:  \n",
    "  - `review` → texto de la reseña  \n",
    "  - `sentiment` → etiqueta de sentimiento (**positive / negative**)  \n",
    "- En este paso trabajaremos solo con los **80 primeros registros** para hacer una versión corta y didáctica del modelo.\n"
   ]
  },
  {
   "cell_type": "code",
   "execution_count": 2,
   "id": "f0815115-8892-40ff-b6f9-71e200d2bf78",
   "metadata": {},
   "outputs": [
    {
     "name": "stdout",
     "output_type": "stream",
     "text": [
      "Columnas disponibles: ['review', 'sentiment']\n",
      "Registros usados: 80\n",
      "etiqueta\n",
      "negativo    44\n",
      "positivo    36\n",
      "Name: count, dtype: int64\n"
     ]
    },
    {
     "data": {
      "text/html": [
       "<div>\n",
       "<style scoped>\n",
       "    .dataframe tbody tr th:only-of-type {\n",
       "        vertical-align: middle;\n",
       "    }\n",
       "\n",
       "    .dataframe tbody tr th {\n",
       "        vertical-align: top;\n",
       "    }\n",
       "\n",
       "    .dataframe thead th {\n",
       "        text-align: right;\n",
       "    }\n",
       "</style>\n",
       "<table border=\"1\" class=\"dataframe\">\n",
       "  <thead>\n",
       "    <tr style=\"text-align: right;\">\n",
       "      <th></th>\n",
       "      <th>texto</th>\n",
       "      <th>etiqueta</th>\n",
       "    </tr>\n",
       "  </thead>\n",
       "  <tbody>\n",
       "    <tr>\n",
       "      <th>0</th>\n",
       "      <td>One of the other reviewers has mentioned that after watching just 1 Oz episode you'll be hooked. They are right, as ...</td>\n",
       "      <td>positivo</td>\n",
       "    </tr>\n",
       "    <tr>\n",
       "      <th>1</th>\n",
       "      <td>A wonderful little production. &lt;br /&gt;&lt;br /&gt;The filming technique is very unassuming- very old-time-BBC fashion and g...</td>\n",
       "      <td>positivo</td>\n",
       "    </tr>\n",
       "    <tr>\n",
       "      <th>2</th>\n",
       "      <td>I thought this was a wonderful way to spend time on a too hot summer weekend, sitting in the air conditioned theater...</td>\n",
       "      <td>positivo</td>\n",
       "    </tr>\n",
       "    <tr>\n",
       "      <th>3</th>\n",
       "      <td>Basically there's a family where a little boy (Jake) thinks there's a zombie in his closet &amp; his parents are fightin...</td>\n",
       "      <td>negativo</td>\n",
       "    </tr>\n",
       "    <tr>\n",
       "      <th>4</th>\n",
       "      <td>Petter Mattei's \"Love in the Time of Money\" is a visually stunning film to watch. Mr. Mattei offers us a vivid portr...</td>\n",
       "      <td>positivo</td>\n",
       "    </tr>\n",
       "  </tbody>\n",
       "</table>\n",
       "</div>"
      ],
      "text/plain": [
       "                                                                                                                     texto  \\\n",
       "0  One of the other reviewers has mentioned that after watching just 1 Oz episode you'll be hooked. They are right, as ...   \n",
       "1  A wonderful little production. <br /><br />The filming technique is very unassuming- very old-time-BBC fashion and g...   \n",
       "2  I thought this was a wonderful way to spend time on a too hot summer weekend, sitting in the air conditioned theater...   \n",
       "3  Basically there's a family where a little boy (Jake) thinks there's a zombie in his closet & his parents are fightin...   \n",
       "4  Petter Mattei's \"Love in the Time of Money\" is a visually stunning film to watch. Mr. Mattei offers us a vivid portr...   \n",
       "\n",
       "   etiqueta  \n",
       "0  positivo  \n",
       "1  positivo  \n",
       "2  positivo  \n",
       "3  negativo  \n",
       "4  positivo  "
      ]
     },
     "execution_count": 2,
     "metadata": {},
     "output_type": "execute_result"
    }
   ],
   "source": [
    "# 2️⃣ Carga de datos desde CSV (IMDB, 80 primeros registros)\n",
    "\n",
    "# Ruta del CSV (ajusta si fuera necesario)\n",
    "CSV_PATH = \"IMDB Dataset.csv\"\n",
    "\n",
    "# Carga\n",
    "df = pd.read_csv(CSV_PATH)\n",
    "\n",
    "print(\"Columnas disponibles:\", df.columns.tolist())\n",
    "\n",
    "# Renombrar a nuestro esquema (texto/etiqueta)\n",
    "# IMDB usa: review (texto), sentiment (positive/negative)\n",
    "df = df.rename(columns={\"review\": \"texto\", \"sentiment\": \"etiqueta\"})\n",
    "\n",
    "# Opcional: traducir etiquetas a español para mantener consistencia\n",
    "df[\"etiqueta\"] = df[\"etiqueta\"].map({\"positive\": \"positivo\", \"negative\": \"negativo\"})\n",
    "\n",
    "# Selección y tipado\n",
    "texto_cols = [\"texto\"]\n",
    "label_cols = [\"etiqueta\"]\n",
    "COL_TEXTO = texto_cols[0]\n",
    "COL_LABEL = label_cols[0]\n",
    "\n",
    "# Tomar solo 80 registros para versión corta\n",
    "df = df[[COL_TEXTO, COL_LABEL]].dropna().head(80)\n",
    "df[COL_TEXTO] = df[COL_TEXTO].astype(str)\n",
    "\n",
    "print(f\"Registros usados: {len(df)}\")\n",
    "\n",
    "# Distribución de clases\n",
    "print(df[COL_LABEL].value_counts())\n",
    "\n",
    "df.head(5)\n"
   ]
  },
  {
   "cell_type": "markdown",
   "id": "e16f706e-27fe-4f00-ba2f-b97b59d98fa5",
   "metadata": {},
   "source": [
    "## 3️⃣ Preprocesamiento textual (simple y directo)\n",
    "\n",
    "- En esta versión corta, utilizaremos la normalización interna de **`TfidfVectorizer`**, que convierte el texto a minúsculas y realiza una tokenización básica automáticamente.  \n",
    "- Dado que las reseñas del dataset **IMDB** pueden contener etiquetas HTML (`<br />`, etc.), aplicaremos una limpieza ligera para eliminar ese tipo de ruido antes de continuar.  \n",
    "- Este paso prepara el texto para la siguiente etapa de **vectorización**.\n"
   ]
  },
  {
   "cell_type": "code",
   "execution_count": 3,
   "id": "ded48e2a-0397-406f-8a13-71768610a87f",
   "metadata": {},
   "outputs": [
    {
     "data": {
      "text/html": [
       "<div>\n",
       "<style scoped>\n",
       "    .dataframe tbody tr th:only-of-type {\n",
       "        vertical-align: middle;\n",
       "    }\n",
       "\n",
       "    .dataframe tbody tr th {\n",
       "        vertical-align: top;\n",
       "    }\n",
       "\n",
       "    .dataframe thead th {\n",
       "        text-align: right;\n",
       "    }\n",
       "</style>\n",
       "<table border=\"1\" class=\"dataframe\">\n",
       "  <thead>\n",
       "    <tr style=\"text-align: right;\">\n",
       "      <th></th>\n",
       "      <th>texto</th>\n",
       "      <th>etiqueta</th>\n",
       "      <th>texto_proc</th>\n",
       "    </tr>\n",
       "  </thead>\n",
       "  <tbody>\n",
       "    <tr>\n",
       "      <th>0</th>\n",
       "      <td>One of the other reviewers has mentioned that after watching just 1 Oz episode you'll be hooked. They are right, as ...</td>\n",
       "      <td>positivo</td>\n",
       "      <td>One of the other reviewers has mentioned that after watching just 1 Oz episode you'll be hooked. They are right, as ...</td>\n",
       "    </tr>\n",
       "    <tr>\n",
       "      <th>1</th>\n",
       "      <td>A wonderful little production. &lt;br /&gt;&lt;br /&gt;The filming technique is very unassuming- very old-time-BBC fashion and g...</td>\n",
       "      <td>positivo</td>\n",
       "      <td>A wonderful little production. The filming technique is very unassuming- very old-time-BBC fashion and gives a comfo...</td>\n",
       "    </tr>\n",
       "    <tr>\n",
       "      <th>2</th>\n",
       "      <td>I thought this was a wonderful way to spend time on a too hot summer weekend, sitting in the air conditioned theater...</td>\n",
       "      <td>positivo</td>\n",
       "      <td>I thought this was a wonderful way to spend time on a too hot summer weekend, sitting in the air conditioned theater...</td>\n",
       "    </tr>\n",
       "    <tr>\n",
       "      <th>3</th>\n",
       "      <td>Basically there's a family where a little boy (Jake) thinks there's a zombie in his closet &amp; his parents are fightin...</td>\n",
       "      <td>negativo</td>\n",
       "      <td>Basically there's a family where a little boy (Jake) thinks there's a zombie in his closet &amp; his parents are fightin...</td>\n",
       "    </tr>\n",
       "    <tr>\n",
       "      <th>4</th>\n",
       "      <td>Petter Mattei's \"Love in the Time of Money\" is a visually stunning film to watch. Mr. Mattei offers us a vivid portr...</td>\n",
       "      <td>positivo</td>\n",
       "      <td>Petter Mattei's \"Love in the Time of Money\" is a visually stunning film to watch. Mr. Mattei offers us a vivid portr...</td>\n",
       "    </tr>\n",
       "  </tbody>\n",
       "</table>\n",
       "</div>"
      ],
      "text/plain": [
       "                                                                                                                     texto  \\\n",
       "0  One of the other reviewers has mentioned that after watching just 1 Oz episode you'll be hooked. They are right, as ...   \n",
       "1  A wonderful little production. <br /><br />The filming technique is very unassuming- very old-time-BBC fashion and g...   \n",
       "2  I thought this was a wonderful way to spend time on a too hot summer weekend, sitting in the air conditioned theater...   \n",
       "3  Basically there's a family where a little boy (Jake) thinks there's a zombie in his closet & his parents are fightin...   \n",
       "4  Petter Mattei's \"Love in the Time of Money\" is a visually stunning film to watch. Mr. Mattei offers us a vivid portr...   \n",
       "\n",
       "   etiqueta  \\\n",
       "0  positivo   \n",
       "1  positivo   \n",
       "2  positivo   \n",
       "3  negativo   \n",
       "4  positivo   \n",
       "\n",
       "                                                                                                                texto_proc  \n",
       "0  One of the other reviewers has mentioned that after watching just 1 Oz episode you'll be hooked. They are right, as ...  \n",
       "1  A wonderful little production. The filming technique is very unassuming- very old-time-BBC fashion and gives a comfo...  \n",
       "2  I thought this was a wonderful way to spend time on a too hot summer weekend, sitting in the air conditioned theater...  \n",
       "3  Basically there's a family where a little boy (Jake) thinks there's a zombie in his closet & his parents are fightin...  \n",
       "4  Petter Mattei's \"Love in the Time of Money\" is a visually stunning film to watch. Mr. Mattei offers us a vivid portr...  "
      ]
     },
     "execution_count": 3,
     "metadata": {},
     "output_type": "execute_result"
    }
   ],
   "source": [
    "# 3️⃣ Preprocesamiento textual (simple y directo)\n",
    "\n",
    "import re\n",
    "\n",
    "def preprocesar_minimo(texto: str) -> str:\n",
    "    \"\"\"\n",
    "    Limpieza ligera: elimina etiquetas HTML y espacios extras.\n",
    "    (TF-IDF ya convierte a minúsculas por defecto)\n",
    "    \"\"\"\n",
    "    texto = re.sub(r\"<.*?>\", \" \", str(texto))  # quitar etiquetas HTML\n",
    "    texto = re.sub(r\"\\s+\", \" \", texto)         # eliminar espacios múltiples\n",
    "    return texto.strip()\n",
    "\n",
    "# Aplicar limpieza mínima\n",
    "df[\"texto_proc\"] = df[COL_TEXTO].apply(preprocesar_minimo)\n",
    "df.head(5)\n"
   ]
  },
  {
   "cell_type": "markdown",
   "id": "4009573c-3cd9-4fd1-8004-29426c930574",
   "metadata": {},
   "source": [
    "## 4️⃣ Vectorización (TF-IDF) y **5️⃣ Modelo** (Naive Bayes) — IMDB (positivo/negativo)\n",
    "\n",
    "- **Vectorización:** convertimos `texto_proc` en vectores **TF-IDF** usando **unigramas y bigramas (1–2)** y límite de vocabulario (p.ej., `max_features=5000`, `min_df=2`) para reducir ruido.\n",
    "- **Clasificador:** entrenamos **`MultinomialNB`** sobre esas representaciones TF-IDF para predecir la etiqueta **`etiqueta`** (*negativo/positivo*).\n",
    "- **Partición estratificada:** dividimos los **80 registros** en **train/test (70/30)** con `stratify=y` para **mantener el balance** de clases en ambos subconjuntos.\n"
   ]
  },
  {
   "cell_type": "code",
   "execution_count": 7,
   "id": "f7c199b2-48a3-4b7f-bb4f-dcbc4158fa2f",
   "metadata": {},
   "outputs": [
    {
     "name": "stdout",
     "output_type": "stream",
     "text": [
      "Modelo entrenado ✅\n"
     ]
    }
   ],
   "source": [
    "# 4️⃣ Vectorización (TF-IDF) y 5️⃣ Modelo (Naive Bayes) — IMDB\n",
    "\n",
    "X = df[\"texto_proc\"].values\n",
    "y = df[COL_LABEL].values\n",
    "\n",
    "# Separación en entrenamiento y prueba (70/30)\n",
    "X_train, X_test, y_train, y_test = train_test_split(\n",
    "    X, y, test_size=0.3, random_state=42, stratify=y\n",
    ")\n",
    "\n",
    "# TF-IDF con n-gramas (1,2) para capturar frases como \"not good\", \"very bad\"\n",
    "modelo = Pipeline([\n",
    "    (\"tfidf\", TfidfVectorizer(max_features=5000, ngram_range=(1,2), min_df=2)),  # Vectorización TF-IDF\n",
    "    (\"clf\", MultinomialNB())  # Clasificador probabilístico Naive Bayes\n",
    "])\n",
    "\n",
    "# Entrenamiento del modelo\n",
    "modelo.fit(X_train, y_train)\n",
    "print(\"Modelo entrenado ✅\")\n"
   ]
  },
  {
   "cell_type": "markdown",
   "id": "d85a20f3-7d17-4d21-8221-022ea3bbd5ab",
   "metadata": {},
   "source": [
    "## 6️⃣ Evaluación y métricas — IMDB (positivo/negativo)\n",
    "\n",
    "- Evaluamos el rendimiento del modelo con los datos de prueba (`X_test`, `y_test`).  \n",
    "- Calculamos:\n",
    "  - **Accuracy:** porcentaje total de aciertos del modelo.  \n",
    "  - **Classification Report:** muestra métricas por clase → *precisión (precision)*, *exhaustividad (recall)* y *F1-score*.  \n",
    "  - **Matriz de confusión:** permite visualizar cuántas reseñas positivas y negativas fueron clasificadas correctamente o incorrectamente.  \n",
    "- Estas métricas permiten verificar si el modelo generaliza bien y no está sobreajustado a los datos de entrenamiento.\n"
   ]
  },
  {
   "cell_type": "code",
   "execution_count": 8,
   "id": "66974f91-fae0-47b5-addd-cca96acf77ee",
   "metadata": {},
   "outputs": [
    {
     "name": "stdout",
     "output_type": "stream",
     "text": [
      "Accuracy: 0.583\n",
      "\n",
      "Classification report:\n",
      "              precision    recall  f1-score   support\n",
      "\n",
      "    negativo       0.57      1.00      0.72        13\n",
      "    positivo       1.00      0.09      0.17        11\n",
      "\n",
      "    accuracy                           0.58        24\n",
      "   macro avg       0.78      0.55      0.44        24\n",
      "weighted avg       0.76      0.58      0.47        24\n",
      "\n"
     ]
    },
    {
     "data": {
      "image/png": "[encoded data removed]",
      "text/plain": [
       "<Figure size 450x400 with 2 Axes>"
      ]
     },
     "metadata": {},
     "output_type": "display_data"
    }
   ],
   "source": [
    "# 6️⃣ Evaluación y métricas — IMDB\n",
    "\n",
    "# Predicción en test\n",
    "y_pred = modelo.predict(X_test)\n",
    "\n",
    "# Métricas\n",
    "acc = accuracy_score(y_test, y_pred)\n",
    "print(f\"Accuracy: {acc:.3f}\\n\")\n",
    "\n",
    "print(\"Classification report:\")\n",
    "print(classification_report(y_test, y_pred))\n",
    "\n",
    "# Matriz de confusión (gráfico simple con matplotlib)\n",
    "import numpy as np\n",
    "cm = confusion_matrix(y_test, y_pred, labels=np.unique(y))\n",
    "disp = ConfusionMatrixDisplay(confusion_matrix=cm, display_labels=np.unique(y))\n",
    "\n",
    "fig, ax = plt.subplots(figsize=(4.5, 4))\n",
    "disp.plot(ax=ax)\n",
    "plt.title(\"Matriz de confusión (test)\")\n",
    "plt.tight_layout()\n",
    "plt.show()\n"
   ]
  },
  {
   "cell_type": "markdown",
   "id": "93d9fa8b-3491-4536-8578-95d94b359eec",
   "metadata": {},
   "source": [
    "\n",
    "## 7️⃣ Visualización final atractiva\n",
    "Gráfico de barras con la **distribución de sentimientos** (verdaderos vs. predichos) en el conjunto de prueba.\n"
   ]
  },
  {
   "cell_type": "code",
   "execution_count": 9,
   "id": "0e085189-45b3-4343-b548-e0a51c9f293d",
   "metadata": {},
   "outputs": [
    {
     "data": {
      "image/png": "[encoded data removed]",
      "text/plain": [
       "<Figure size 600x400 with 1 Axes>"
      ]
     },
     "metadata": {},
     "output_type": "display_data"
    }
   ],
   "source": [
    "# 7️⃣ Visualización final atractiva — Comparación Real vs Predicho (IMDB)\n",
    "\n",
    "import pandas as pd\n",
    "import numpy as np\n",
    "import matplotlib.pyplot as plt\n",
    "\n",
    "# Distribución real y predicha\n",
    "vals_true = pd.Series(y_test).value_counts().sort_index()\n",
    "vals_pred = pd.Series(y_pred).value_counts().reindex(vals_true.index).fillna(0)\n",
    "\n",
    "clases = vals_true.index.astype(str)\n",
    "x = np.arange(len(clases))\n",
    "width = 0.35  # separación entre barras\n",
    "\n",
    "# Gráfico de barras\n",
    "fig, ax = plt.subplots(figsize=(6, 4))\n",
    "b1 = ax.bar(x - width/2, vals_true.values, width, label=\"Real\", color=\"#4a90e2\")\n",
    "b2 = ax.bar(x + width/2, vals_pred.values, width, label=\"Predicho\", color=\"#f5a623\")\n",
    "\n",
    "ax.set_title(\"Comparación de sentimientos (test) — IMDB\")\n",
    "ax.set_xlabel(\"Clase\")\n",
    "ax.set_ylabel(\"Frecuencia\")\n",
    "ax.set_xticks(x)\n",
    "ax.set_xticklabels(clases)\n",
    "ax.legend()\n",
    "plt.tight_layout()\n",
    "plt.show()\n"
   ]
  },
  {
   "cell_type": "markdown",
   "id": "c124f2e9-e694-4a1f-9d49-918981f3fcc3",
   "metadata": {},
   "source": [
    "\n",
    "## 🧪 Predicción rápida (demo)\n",
    "Cambia el texto y vuelve a ejecutar la celda para ver la predicción.\n"
   ]
  },
  {
   "cell_type": "code",
   "execution_count": 10,
   "id": "bb3e91e6-522f-4420-ab86-6f5eb7c667a5",
   "metadata": {},
   "outputs": [
    {
     "name": "stdout",
     "output_type": "stream",
     "text": [
      "💬 Comentario: The movie was amazing, I loved the performances and the story.\n",
      "🧠 Predicción: NEGATIVO \n",
      "\n",
      "💬 Comentario: Terrible film. Boring, predictable, and way too long.\n",
      "🧠 Predicción: NEGATIVO \n",
      "\n",
      "💬 Comentario: It was okay, some parts were good but overall disappointing.\n",
      "🧠 Predicción: NEGATIVO \n",
      "\n",
      "💬 Comentario: The plot was weak and the acting was bad.\n",
      "🧠 Predicción: NEGATIVO \n",
      "\n"
     ]
    }
   ],
   "source": [
    "# 🧪 Predicción rápida (demo) — IMDB (positivo/negativo)\n",
    "\n",
    "def predecir(texto: str):\n",
    "    # usar la misma limpieza mínima que en entrenamiento\n",
    "    t_proc = preprocesar_minimo(texto)\n",
    "    pred = modelo.predict([t_proc])[0]\n",
    "    print(\"💬 Comentario:\", texto)\n",
    "    print(\"🧠 Predicción:\", pred.upper(), \"\\n\")\n",
    "\n",
    "# Cambia/añade ejemplos (IMDB está en inglés)\n",
    "ejemplos = [\n",
    "    \"The movie was amazing, I loved the performances and the story.\",\n",
    "    \"Terrible film. Boring, predictable, and way too long.\",\n",
    "    \"It was okay, some parts were good but overall disappointing.\",\n",
    "]\n",
    "\n",
    "for e in ejemplos:\n",
    "    predecir(e)\n",
    "\n",
    "# Ejemplo único\n",
    "nuevo = \"The plot was weak and the acting was bad.\"\n",
    "predecir(nuevo)\n"
   ]
  }
 ],
 "metadata": {
  "kernelspec": {
   "display_name": "Python 3 (ipykernel)",
   "language": "python",
   "name": "python3"
  },
  "language_info": {
   "codemirror_mode": {
    "name": "ipython",
    "version": 3
   },
   "file_extension": ".py",
   "mimetype": "text/x-python",
   "name": "python",
   "nbconvert_exporter": "python",
   "pygments_lexer": "ipython3",
   "version": "3.12.7"
  }
 },
 "nbformat": 4,
 "nbformat_minor": 5
}
